{
 "cells": [
  {
   "cell_type": "code",
   "execution_count": 1,
   "metadata": {},
   "outputs": [],
   "source": [
    "import pandas as pd\n",
    "import numpy as np"
   ]
  },
  {
   "cell_type": "code",
   "execution_count": 2,
   "metadata": {},
   "outputs": [],
   "source": [
    "train = pd.read_csv(\"train.csv\")\n",
    "test = pd.read_csv(\"test.csv\")"
   ]
  },
  {
   "cell_type": "markdown",
   "metadata": {},
   "source": [
    "## Logistic Regression"
   ]
  },
  {
   "cell_type": "code",
   "execution_count": 3,
   "metadata": {},
   "outputs": [
    {
     "data": {
      "text/html": [
       "<div>\n",
       "<style scoped>\n",
       "    .dataframe tbody tr th:only-of-type {\n",
       "        vertical-align: middle;\n",
       "    }\n",
       "\n",
       "    .dataframe tbody tr th {\n",
       "        vertical-align: top;\n",
       "    }\n",
       "\n",
       "    .dataframe thead th {\n",
       "        text-align: right;\n",
       "    }\n",
       "</style>\n",
       "<table border=\"1\" class=\"dataframe\">\n",
       "  <thead>\n",
       "    <tr style=\"text-align: right;\">\n",
       "      <th></th>\n",
       "      <th>Date</th>\n",
       "      <th>Open Price</th>\n",
       "      <th>Close Price</th>\n",
       "      <th>High Price</th>\n",
       "      <th>Low Price</th>\n",
       "      <th>Volume</th>\n",
       "      <th>label</th>\n",
       "    </tr>\n",
       "  </thead>\n",
       "  <tbody>\n",
       "    <tr>\n",
       "      <th>0</th>\n",
       "      <td>02-Jan-2009</td>\n",
       "      <td>902.99</td>\n",
       "      <td>931.80</td>\n",
       "      <td>934.73</td>\n",
       "      <td>899.35</td>\n",
       "      <td>4048270080</td>\n",
       "      <td>0</td>\n",
       "    </tr>\n",
       "    <tr>\n",
       "      <th>1</th>\n",
       "      <td>05-Jan-2009</td>\n",
       "      <td>929.17</td>\n",
       "      <td>927.45</td>\n",
       "      <td>936.63</td>\n",
       "      <td>919.53</td>\n",
       "      <td>5413910016</td>\n",
       "      <td>0</td>\n",
       "    </tr>\n",
       "    <tr>\n",
       "      <th>2</th>\n",
       "      <td>06-Jan-2009</td>\n",
       "      <td>931.17</td>\n",
       "      <td>934.70</td>\n",
       "      <td>943.85</td>\n",
       "      <td>927.28</td>\n",
       "      <td>5392620032</td>\n",
       "      <td>1</td>\n",
       "    </tr>\n",
       "    <tr>\n",
       "      <th>3</th>\n",
       "      <td>07-Jan-2009</td>\n",
       "      <td>927.45</td>\n",
       "      <td>906.65</td>\n",
       "      <td>927.45</td>\n",
       "      <td>902.37</td>\n",
       "      <td>4704940032</td>\n",
       "      <td>0</td>\n",
       "    </tr>\n",
       "    <tr>\n",
       "      <th>4</th>\n",
       "      <td>08-Jan-2009</td>\n",
       "      <td>905.73</td>\n",
       "      <td>909.73</td>\n",
       "      <td>910.00</td>\n",
       "      <td>896.81</td>\n",
       "      <td>4991549952</td>\n",
       "      <td>1</td>\n",
       "    </tr>\n",
       "  </tbody>\n",
       "</table>\n",
       "</div>"
      ],
      "text/plain": [
       "          Date  Open Price  Close Price  High Price  Low Price      Volume  \\\n",
       "0  02-Jan-2009      902.99       931.80      934.73     899.35  4048270080   \n",
       "1  05-Jan-2009      929.17       927.45      936.63     919.53  5413910016   \n",
       "2  06-Jan-2009      931.17       934.70      943.85     927.28  5392620032   \n",
       "3  07-Jan-2009      927.45       906.65      927.45     902.37  4704940032   \n",
       "4  08-Jan-2009      905.73       909.73      910.00     896.81  4991549952   \n",
       "\n",
       "   label  \n",
       "0      0  \n",
       "1      0  \n",
       "2      1  \n",
       "3      0  \n",
       "4      1  "
      ]
     },
     "execution_count": 3,
     "metadata": {},
     "output_type": "execute_result"
    }
   ],
   "source": [
    "# preprocessing : 股價的漲 (1) or 跌 (0) label\n",
    "def add_label(df, column):\n",
    "    label = []\n",
    "    for i in range(len(df)):\n",
    "        if(i == 0):\n",
    "            label.append(0)\n",
    "            continue\n",
    "        if(df[column][i] >= df[column][i - 1]):\n",
    "            label.append(1)\n",
    "        else:\n",
    "            label.append(0)\n",
    "    return pd.Series(label)\n",
    "    \n",
    "train_length = len(train)\n",
    "train[\"label\"] = add_label(train, \"Close Price\")\n",
    "test[\"label\"] = add_label(test, \"Close Price\")\n",
    "train.head()"
   ]
  },
  {
   "cell_type": "code",
   "execution_count": 4,
   "metadata": {},
   "outputs": [
    {
     "name": "stderr",
     "output_type": "stream",
     "text": [
      "C:\\Users\\1234\\Anaconda3\\lib\\site-packages\\sklearn\\cross_validation.py:41: DeprecationWarning: This module was deprecated in version 0.18 in favor of the model_selection module into which all the refactored classes and functions are moved. Also note that the interface of the new CV iterators are different from that of this module. This module will be removed in 0.20.\n",
      "  \"This module will be removed in 0.20.\", DeprecationWarning)\n"
     ]
    },
    {
     "name": "stdout",
     "output_type": "stream",
     "text": [
      "Train size: 2264, Test size: 252\n",
      "accuracy : 52.38 %\n"
     ]
    }
   ],
   "source": [
    "from sklearn.cross_validation import train_test_split\n",
    "from sklearn.linear_model import LogisticRegression\n",
    "from sklearn import metrics\n",
    "\n",
    "# 取出參考的 columns\n",
    "x_list = [\"Open Price\", \"Close Price\", \"High Price\", \"Low Price\", \"Volume\"]\n",
    "train_x = train[x_list]\n",
    "train_y = train[\"label\"]\n",
    "\n",
    "test_x = test[x_list]\n",
    "test_y = test[\"label\"]\n",
    "\n",
    "print(\"Train size: %d, Test size: %d\" % (len(train), len(test)))\n",
    "\n",
    "# train model & predict\n",
    "model = LogisticRegression()\n",
    "model.fit(train_x, train_y)\n",
    "\n",
    "pred_y = model.predict(test_x)\n",
    "print(\"accuracy :\", end=\" \")\n",
    "print(str(round(metrics.accuracy_score(pred_y, test_y) * 100, 2)) + \" %\" )"
   ]
  },
  {
   "cell_type": "markdown",
   "metadata": {},
   "source": [
    "## Neural Network - 1\n",
    "\n",
    "透過股價直接預測分類(漲 or 跌)\n",
    "\n",
    "<br/>\n",
    "reference :\n",
    "- [股票LSTM分析(2)-Classifiacion](https://mc.ai/%E8%82%A1%E7%A5%A8lstm%E5%88%86%E6%9E%902-classifiacion/)\n",
    "- [Keras](https://keras.io/zh/getting-started/sequential-model-guide/)"
   ]
  },
  {
   "cell_type": "code",
   "execution_count": 5,
   "metadata": {},
   "outputs": [],
   "source": [
    "train = pd.read_csv(\"train.csv\")\n",
    "test = pd.read_csv(\"test.csv\")\n",
    "\n",
    "train = train.drop([\"Date\"], axis=1)\n",
    "test = test.drop([\"Date\"], axis=1)\n",
    "\n",
    "train[\"label\"] = add_label(train, \"Close Price\")\n",
    "test[\"label\"] = add_label(test, \"Close Price\")"
   ]
  },
  {
   "cell_type": "code",
   "execution_count": 6,
   "metadata": {},
   "outputs": [
    {
     "data": {
      "text/html": [
       "<div>\n",
       "<style scoped>\n",
       "    .dataframe tbody tr th:only-of-type {\n",
       "        vertical-align: middle;\n",
       "    }\n",
       "\n",
       "    .dataframe tbody tr th {\n",
       "        vertical-align: top;\n",
       "    }\n",
       "\n",
       "    .dataframe thead th {\n",
       "        text-align: right;\n",
       "    }\n",
       "</style>\n",
       "<table border=\"1\" class=\"dataframe\">\n",
       "  <thead>\n",
       "    <tr style=\"text-align: right;\">\n",
       "      <th></th>\n",
       "      <th>Open Price</th>\n",
       "      <th>Close Price</th>\n",
       "      <th>High Price</th>\n",
       "      <th>Low Price</th>\n",
       "      <th>Volume</th>\n",
       "      <th>label</th>\n",
       "    </tr>\n",
       "  </thead>\n",
       "  <tbody>\n",
       "    <tr>\n",
       "      <th>0</th>\n",
       "      <td>0.111109</td>\n",
       "      <td>0.126771</td>\n",
       "      <td>0.119748</td>\n",
       "      <td>0.115178</td>\n",
       "      <td>4048270080</td>\n",
       "      <td>0</td>\n",
       "    </tr>\n",
       "    <tr>\n",
       "      <th>1</th>\n",
       "      <td>0.124112</td>\n",
       "      <td>0.124611</td>\n",
       "      <td>0.120698</td>\n",
       "      <td>0.125173</td>\n",
       "      <td>5413910016</td>\n",
       "      <td>0</td>\n",
       "    </tr>\n",
       "    <tr>\n",
       "      <th>2</th>\n",
       "      <td>0.125105</td>\n",
       "      <td>0.128211</td>\n",
       "      <td>0.124309</td>\n",
       "      <td>0.129011</td>\n",
       "      <td>5392620032</td>\n",
       "      <td>1</td>\n",
       "    </tr>\n",
       "    <tr>\n",
       "      <th>3</th>\n",
       "      <td>0.123257</td>\n",
       "      <td>0.114281</td>\n",
       "      <td>0.116107</td>\n",
       "      <td>0.116674</td>\n",
       "      <td>4704940032</td>\n",
       "      <td>0</td>\n",
       "    </tr>\n",
       "    <tr>\n",
       "      <th>4</th>\n",
       "      <td>0.112470</td>\n",
       "      <td>0.115811</td>\n",
       "      <td>0.107381</td>\n",
       "      <td>0.113920</td>\n",
       "      <td>4991549952</td>\n",
       "      <td>1</td>\n",
       "    </tr>\n",
       "  </tbody>\n",
       "</table>\n",
       "</div>"
      ],
      "text/plain": [
       "   Open Price  Close Price  High Price  Low Price      Volume  label\n",
       "0    0.111109     0.126771    0.119748   0.115178  4048270080      0\n",
       "1    0.124112     0.124611    0.120698   0.125173  5413910016      0\n",
       "2    0.125105     0.128211    0.124309   0.129011  5392620032      1\n",
       "3    0.123257     0.114281    0.116107   0.116674  4704940032      0\n",
       "4    0.112470     0.115811    0.107381   0.113920  4991549952      1"
      ]
     },
     "execution_count": 6,
     "metadata": {},
     "output_type": "execute_result"
    }
   ],
   "source": [
    "from sklearn import preprocessing\n",
    "from sklearn.preprocessing import MinMaxScaler \n",
    "\n",
    "x_list = [\"Open Price\", \"Close Price\", \"High Price\", \"Low Price\"]\n",
    "\n",
    "# 正規化\n",
    "scaler = MinMaxScaler()\n",
    "train[x_list] = scaler.fit_transform(train[x_list])\n",
    "train.head()"
   ]
  },
  {
   "cell_type": "code",
   "execution_count": 7,
   "metadata": {},
   "outputs": [
    {
     "name": "stdout",
     "output_type": "stream",
     "text": [
      "finish\n"
     ]
    }
   ],
   "source": [
    "# 以 5 天為單位當作一個輸入資料\n",
    "def extract_days(df, ref_day = 5, predict_day = 1):\n",
    "    X_train, Y_train = [], []\n",
    "    tmp = df[[\"Open Price\", \"Close Price\", \"High Price\", \"Low Price\"]]\n",
    "    for i in range(df.shape[0] - predict_day - ref_day):\n",
    "        X_train.append(np.array(tmp.iloc[i: i + ref_day,: ]))\n",
    "        Y_train.append(np.array(df[\"label\"][i + ref_day: i + ref_day + predict_day,]))\n",
    "    return np.array(X_train), np.array(Y_train)\n",
    "\n",
    "train_x, train_y = extract_days(train, 5, 1)\n",
    "test_x, test_y = extract_days(test, 5, 1)\n",
    "\n",
    "print(\"finish\")"
   ]
  },
  {
   "cell_type": "code",
   "execution_count": 8,
   "metadata": {},
   "outputs": [
    {
     "name": "stdout",
     "output_type": "stream",
     "text": [
      "train_x set shape:  (2258, 5, 4)\n",
      "train label 0 v.s. 1 : 1021 1237\n",
      "- - -\n",
      "test_x set shape:  (246, 5, 4)\n",
      "test  label 0 v.s. 1 : 119 127\n"
     ]
    }
   ],
   "source": [
    "print(\"train_x set shape: \", str(train_x.shape))\n",
    "print(\"train label 0 v.s. 1 :\", end=\" \")\n",
    "print(list(train_y).count(0), list(train_y).count(1))\n",
    "\n",
    "print(\"- - -\")\n",
    "\n",
    "print(\"test_x set shape: \", str(test_x.shape))\n",
    "print(\"test  label 0 v.s. 1 :\", end=\" \")\n",
    "print(list(test_y).count(0), list(test_y).count(1))"
   ]
  },
  {
   "cell_type": "code",
   "execution_count": 9,
   "metadata": {},
   "outputs": [
    {
     "name": "stderr",
     "output_type": "stream",
     "text": [
      "Using TensorFlow backend.\n",
      "WARNING: Logging before flag parsing goes to stderr.\n",
      "W0527 23:03:31.760421 22880 deprecation.py:323] From C:\\Users\\1234\\Anaconda3\\lib\\site-packages\\tensorflow\\python\\ops\\nn_impl.py:180: add_dispatch_support.<locals>.wrapper (from tensorflow.python.ops.array_ops) is deprecated and will be removed in a future version.\n",
      "Instructions for updating:\n",
      "Use tf.where in 2.0, which has the same broadcast rule as np.where\n",
      "W0527 23:03:33.880220 22880 deprecation_wrapper.py:119] From C:\\Users\\1234\\Anaconda3\\lib\\site-packages\\keras\\backend\\tensorflow_backend.py:422: The name tf.global_variables is deprecated. Please use tf.compat.v1.global_variables instead.\n",
      "\n"
     ]
    },
    {
     "name": "stdout",
     "output_type": "stream",
     "text": [
      "Epoch 1/10\n",
      "2258/2258 [==============================] - 2s 802us/step - loss: 0.6907 - accuracy: 0.5500\n",
      "Epoch 2/10\n",
      "2258/2258 [==============================] - 0s 216us/step - loss: 0.6909 - accuracy: 0.5483\n",
      "Epoch 3/10\n",
      "2258/2258 [==============================] - 0s 219us/step - loss: 0.6902 - accuracy: 0.5461\n",
      "Epoch 4/10\n",
      "2258/2258 [==============================] - 0s 219us/step - loss: 0.6893 - accuracy: 0.5478\n",
      "Epoch 5/10\n",
      "2258/2258 [==============================] - 0s 208us/step - loss: 0.6886 - accuracy: 0.5474\n",
      "Epoch 6/10\n",
      "2258/2258 [==============================] - 1s 223us/step - loss: 0.6902 - accuracy: 0.5478\n",
      "Epoch 7/10\n",
      "2258/2258 [==============================] - 0s 214us/step - loss: 0.6892 - accuracy: 0.5478\n",
      "Epoch 8/10\n",
      "2258/2258 [==============================] - 1s 235us/step - loss: 0.6880 - accuracy: 0.5478\n",
      "Epoch 9/10\n",
      "2258/2258 [==============================] - 1s 249us/step - loss: 0.6891 - accuracy: 0.5478\n",
      "Epoch 10/10\n",
      "2258/2258 [==============================] - 1s 231us/step - loss: 0.6889 - accuracy: 0.5483\n",
      "finish\n"
     ]
    }
   ],
   "source": [
    "from keras.models import Sequential\n",
    "from keras.layers import Dense\n",
    "from keras.layers import LSTM\n",
    "from keras.layers import Dropout\n",
    "\n",
    "regressor = Sequential()\n",
    "\n",
    "regressor.add(LSTM(units = 30, return_sequences = True, input_shape = (train_x.shape[1], train_x.shape[2])))\n",
    "regressor.add(Dropout(0.5))\n",
    "\n",
    "regressor.add(LSTM(units = 30, return_sequences = True))\n",
    "regressor.add(Dropout(0.5))\n",
    "\n",
    "regressor.add(LSTM(units = 30))\n",
    "regressor.add(Dropout(0.5))\n",
    "\n",
    "regressor.add(Dense(units = 1, activation='sigmoid'))\n",
    "regressor.compile(loss='binary_crossentropy', optimizer='rmsprop', metrics=['accuracy'])\n",
    "regressor.fit(train_x, train_y, epochs = 10, batch_size = 64)\n",
    "\n",
    "print(\"finish\")"
   ]
  },
  {
   "cell_type": "code",
   "execution_count": 10,
   "metadata": {},
   "outputs": [
    {
     "name": "stdout",
     "output_type": "stream",
     "text": [
      "finish\n"
     ]
    }
   ],
   "source": [
    "predict_y = regressor.predict(test_x)\n",
    "predict_y = pd.DataFrame(predict_y).values.astype(float)\n",
    "print(\"finish\")"
   ]
  },
  {
   "cell_type": "code",
   "execution_count": 11,
   "metadata": {},
   "outputs": [
    {
     "data": {
      "text/plain": [
       "array([1, 1, 1, 1, 1, 1, 1, 1, 1, 1, 1, 1, 1, 1, 1, 1, 1, 1, 1, 1, 1, 1,\n",
       "       1, 1, 1, 1, 1, 1, 1, 1, 1, 1, 1, 1, 1, 1, 1, 1, 1, 1, 1, 1, 1, 1,\n",
       "       1, 1, 1, 1, 1, 1, 1, 1, 1, 1, 1, 1, 1, 1, 1, 1, 1, 1, 1, 1, 1, 1,\n",
       "       1, 1, 1, 1, 1, 1, 1, 1, 1, 1, 1, 1, 1, 1, 1, 1, 1, 1, 1, 1, 1, 1,\n",
       "       1, 1, 1, 1, 1, 1, 1, 1, 1, 1, 1, 1, 1, 1, 1, 1, 1, 1, 1, 1, 1, 1,\n",
       "       1, 1, 1, 1, 1, 1, 1, 1, 1, 1, 1, 1, 1, 1, 1, 1, 1, 1, 1, 1, 1, 1,\n",
       "       1, 1, 1, 1, 1, 1, 1, 1, 1, 1, 1, 1, 1, 1, 1, 1, 1, 1, 1, 1, 1, 1,\n",
       "       1, 1, 1, 1, 1, 1, 1, 1, 1, 1, 1, 1, 1, 1, 1, 1, 1, 1, 1, 1, 1, 1,\n",
       "       1, 1, 1, 1, 1, 1, 1, 1, 1, 1, 1, 1, 1, 1, 1, 1, 1, 1, 1, 1, 1, 1,\n",
       "       1, 1, 1, 1, 1, 1, 1, 1, 1, 1, 1, 1, 1, 1, 1, 1, 1, 1, 1, 1, 1, 1,\n",
       "       1, 1, 1, 1, 1, 1, 1, 1, 1, 1, 1, 1, 1, 1, 1, 1, 1, 1, 1, 1, 1, 1,\n",
       "       1, 1, 1, 1])"
      ]
     },
     "execution_count": 11,
     "metadata": {},
     "output_type": "execute_result"
    }
   ],
   "source": [
    "def convert_to_label(predict):\n",
    "    data = []\n",
    "    for i in range(len(predict)):\n",
    "        if(predict_y[i] > 0.5):\n",
    "            data.append(1)\n",
    "        else:\n",
    "            data.append(0)\n",
    "    return data\n",
    "pred_yy = np.array(convert_to_label(predict_y))\n",
    "\n",
    "# 預測結果偏向某一類型\n",
    "pred_yy"
   ]
  },
  {
   "cell_type": "code",
   "execution_count": 12,
   "metadata": {},
   "outputs": [
    {
     "name": "stdout",
     "output_type": "stream",
     "text": [
      "accuracy : 51.63 %\n"
     ]
    }
   ],
   "source": [
    "print(\"accuracy :\", end=\" \")\n",
    "print(str(round(metrics.accuracy_score(pred_yy, test_y) * 100, 2)) + \" %\" )"
   ]
  },
  {
   "cell_type": "markdown",
   "metadata": {},
   "source": [
    "### Nuural Network - 2\n",
    "透過股價預測股價，然後再轉換成漲或跌的趨勢分類  \n",
    "\n",
    "<br/>\n",
    "reference : [實作透過lstm預測股票](https://wenwender.wordpress.com/2019/10/18/%E5%AF%A6%E4%BD%9C%E9%80%8F%E9%81%8Elstm%E9%A0%90%E6%B8%AC%E8%82%A1%E7%A5%A8/)"
   ]
  },
  {
   "cell_type": "code",
   "execution_count": 13,
   "metadata": {},
   "outputs": [],
   "source": [
    "train = pd.read_csv(\"train.csv\")\n",
    "test = pd.read_csv(\"test.csv\")"
   ]
  },
  {
   "cell_type": "code",
   "execution_count": 14,
   "metadata": {},
   "outputs": [
    {
     "name": "stdout",
     "output_type": "stream",
     "text": [
      "finish\n"
     ]
    }
   ],
   "source": [
    "from sklearn.preprocessing import MinMaxScaler \n",
    "\n",
    "train_set = train[['Close Price']]\n",
    "test_set = test[['Close Price']]\n",
    "\n",
    "# preprocessing: 資料正規化\n",
    "sc = MinMaxScaler(feature_range = (0, 1))\n",
    "train_set= train_set.values.reshape(-1, 1)\n",
    "training_set_scaled = sc.fit_transform(train_set)\n",
    "\n",
    "train_x, train_y = [], []\n",
    "# 以 5 天當作一個單位\n",
    "for i in range(5, len(train_set)):\n",
    "    train_x.append(training_set_scaled[i-5: i, 0]) \n",
    "    train_y.append(training_set_scaled[i:i+1, 0]) \n",
    "    \n",
    "train_x, train_y = np.array(train_x), np.array(train_y) \n",
    "train_x = np.reshape(train_x, (train_x.shape[0], train_x.shape[1], 1))\n",
    "\n",
    "print(\"finish\")"
   ]
  },
  {
   "cell_type": "code",
   "execution_count": 15,
   "metadata": {},
   "outputs": [
    {
     "name": "stdout",
     "output_type": "stream",
     "text": [
      "Model: \"sequential_1\"\n",
      "_________________________________________________________________\n",
      "Layer (type)                 Output Shape              Param #   \n",
      "=================================================================\n",
      "lstm_1 (LSTM)                (None, 50)                10400     \n",
      "_________________________________________________________________\n",
      "dense_1 (Dense)              (None, 1)                 51        \n",
      "=================================================================\n",
      "Total params: 10,451\n",
      "Trainable params: 10,451\n",
      "Non-trainable params: 0\n",
      "_________________________________________________________________\n"
     ]
    }
   ],
   "source": [
    "import keras\n",
    "from keras.models import Sequential\n",
    "from keras.layers import Dense\n",
    "from keras.layers import LSTM\n",
    "from keras.layers import Dropout,BatchNormalization\n",
    "\n",
    "keras.backend.clear_session()\n",
    "regressor = Sequential()\n",
    "regressor.add(LSTM(units = 50, input_shape = (train_x.shape[1], 1)))\n",
    "regressor.add(Dense(units = 1))\n",
    "regressor.compile(optimizer = 'adam', loss = 'mean_squared_error')\n",
    "regressor.summary()"
   ]
  },
  {
   "cell_type": "code",
   "execution_count": 16,
   "metadata": {
    "scrolled": true
   },
   "outputs": [
    {
     "name": "stdout",
     "output_type": "stream",
     "text": [
      "Epoch 1/40\n",
      "2259/2259 [==============================] - 1s 482us/step - loss: 0.0214\n",
      "Epoch 2/40\n",
      "2259/2259 [==============================] - 1s 307us/step - loss: 2.1693e-04\n",
      "Epoch 3/40\n",
      "2259/2259 [==============================] - 1s 303us/step - loss: 1.9192e-04\n",
      "Epoch 4/40\n",
      "2259/2259 [==============================] - 1s 290us/step - loss: 1.6307e-04\n",
      "Epoch 5/40\n",
      "2259/2259 [==============================] - 1s 300us/step - loss: 1.4771e-04\n",
      "Epoch 6/40\n",
      "2259/2259 [==============================] - 1s 299us/step - loss: 1.3893e-04\n",
      "Epoch 7/40\n",
      "2259/2259 [==============================] - 1s 269us/step - loss: 1.3981e-04\n",
      "Epoch 8/40\n",
      "2259/2259 [==============================] - 1s 320us/step - loss: 1.3297e-04\n",
      "Epoch 9/40\n",
      "2259/2259 [==============================] - 1s 337us/step - loss: 1.3240e-04\n",
      "Epoch 10/40\n",
      "2259/2259 [==============================] - 1s 323us/step - loss: 1.2621e-04\n",
      "Epoch 11/40\n",
      "2259/2259 [==============================] - 1s 279us/step - loss: 1.3253e-04\n",
      "Epoch 12/40\n",
      "2259/2259 [==============================] - 1s 276us/step - loss: 1.2978e-04\n",
      "Epoch 13/40\n",
      "2259/2259 [==============================] - 1s 270us/step - loss: 1.3231e-04\n",
      "Epoch 14/40\n",
      "2259/2259 [==============================] - 1s 273us/step - loss: 1.2905e-04\n",
      "Epoch 15/40\n",
      "2259/2259 [==============================] - 1s 315us/step - loss: 1.2630e-04\n",
      "Epoch 16/40\n",
      "2259/2259 [==============================] - 1s 294us/step - loss: 1.3000e-04\n",
      "Epoch 17/40\n",
      "2259/2259 [==============================] - 1s 265us/step - loss: 1.2700e-04\n",
      "Epoch 18/40\n",
      "2259/2259 [==============================] - 1s 263us/step - loss: 1.3179e-04\n",
      "Epoch 19/40\n",
      "2259/2259 [==============================] - 1s 296us/step - loss: 1.3278e-04\n",
      "Epoch 20/40\n",
      "2259/2259 [==============================] - 1s 264us/step - loss: 1.2730e-04\n",
      "Epoch 21/40\n",
      "2259/2259 [==============================] - 1s 264us/step - loss: 1.3385e-04\n",
      "Epoch 22/40\n",
      "2259/2259 [==============================] - 1s 265us/step - loss: 1.2484e-04\n",
      "Epoch 23/40\n",
      "2259/2259 [==============================] - 1s 254us/step - loss: 1.2643e-04\n",
      "Epoch 24/40\n",
      "2259/2259 [==============================] - 1s 268us/step - loss: 1.3414e-04\n",
      "Epoch 25/40\n",
      "2259/2259 [==============================] - 1s 275us/step - loss: 1.2735e-04\n",
      "Epoch 26/40\n",
      "2259/2259 [==============================] - 1s 256us/step - loss: 1.2358e-04\n",
      "Epoch 27/40\n",
      "2259/2259 [==============================] - 1s 304us/step - loss: 1.2156e-04\n",
      "Epoch 28/40\n",
      "2259/2259 [==============================] - 1s 329us/step - loss: 1.3224e-04\n",
      "Epoch 29/40\n",
      "2259/2259 [==============================] - 1s 303us/step - loss: 1.2493e-04\n",
      "Epoch 30/40\n",
      "2259/2259 [==============================] - 1s 316us/step - loss: 1.1562e-04\n",
      "Epoch 31/40\n",
      "2259/2259 [==============================] - 1s 287us/step - loss: 1.1579e-04\n",
      "Epoch 32/40\n",
      "2259/2259 [==============================] - 1s 307us/step - loss: 1.2803e-04\n",
      "Epoch 33/40\n",
      "2259/2259 [==============================] - 1s 303us/step - loss: 1.1773e-04\n",
      "Epoch 34/40\n",
      "2259/2259 [==============================] - 1s 331us/step - loss: 1.1227e-04\n",
      "Epoch 35/40\n",
      "2259/2259 [==============================] - 1s 273us/step - loss: 1.1958e-04\n",
      "Epoch 36/40\n",
      "2259/2259 [==============================] - 1s 278us/step - loss: 1.1368e-04\n",
      "Epoch 37/40\n",
      "2259/2259 [==============================] - 1s 308us/step - loss: 1.1661e-04\n",
      "Epoch 38/40\n",
      "2259/2259 [==============================] - 1s 273us/step - loss: 1.0905e-04\n",
      "Epoch 39/40\n",
      "2259/2259 [==============================] - 1s 302us/step - loss: 1.1811e-04\n",
      "Epoch 40/40\n",
      "2259/2259 [==============================] - 1s 293us/step - loss: 1.0599e-04\n",
      "finish\n"
     ]
    }
   ],
   "source": [
    "history = regressor.fit(train_x, train_y, epochs = 40, batch_size = 16)\n",
    "print(\"finish\")"
   ]
  },
  {
   "cell_type": "code",
   "execution_count": 17,
   "metadata": {},
   "outputs": [
    {
     "data": {
      "text/plain": [
       "[<matplotlib.lines.Line2D at 0x1eaf4470d30>]"
      ]
     },
     "execution_count": 17,
     "metadata": {},
     "output_type": "execute_result"
    },
    {
     "data": {
      "image/png": "[encoded data removed]",
      "text/plain": [
       "<Figure size 432x288 with 1 Axes>"
      ]
     },
     "metadata": {},
     "output_type": "display_data"
    }
   ],
   "source": [
    "import matplotlib.pyplot as plt\n",
    "%matplotlib inline\n",
    "\n",
    "# loss graph\n",
    "plt.title('train_loss')\n",
    "plt.ylabel('loss')\n",
    "plt.xlabel('Epoch')\n",
    "plt.plot( history.history[\"loss\"])"
   ]
  },
  {
   "cell_type": "code",
   "execution_count": 18,
   "metadata": {},
   "outputs": [
    {
     "data": {
      "image/png": "[encoded data removed]",
      "text/plain": [
       "<Figure size 432x288 with 1 Axes>"
      ]
     },
     "metadata": {},
     "output_type": "display_data"
    }
   ],
   "source": [
    "dataset_total = pd.concat((train['Close Price'], test['Close Price']), axis = 0)\n",
    "inputs = dataset_total[len(dataset_total) - len(test) - 5:].values\n",
    "inputs = inputs.reshape(-1,1)\n",
    "inputs = sc.transform(inputs)\n",
    "\n",
    "test_x = []\n",
    "for i in range(5, len(inputs)):\n",
    "    test_x.append(inputs[i-5: i, 0])\n",
    "test_x = np.array(test_x)\n",
    "test_x = np.reshape(test_x, (test_x.shape[0], test_x.shape[1], 1))\n",
    "predicted_stock_price = regressor.predict(test_x)\n",
    "# 將股價轉為原本的範圍區間\n",
    "predicted_stock_price = sc.inverse_transform(predicted_stock_price)\n",
    "\n",
    "# 預測股價趨勢圖\n",
    "plt.plot(test['Close Price'].values, color = 'black', label = 'Real')\n",
    "plt.plot(predicted_stock_price, color = 'green', label = 'Predicted')\n",
    "plt.title('Stock Price Prediction')\n",
    "plt.xlabel('Time')\n",
    "plt.ylabel('Stock Price')\n",
    "plt.legend()\n",
    "plt.show()"
   ]
  },
  {
   "cell_type": "code",
   "execution_count": 19,
   "metadata": {},
   "outputs": [
    {
     "name": "stdout",
     "output_type": "stream",
     "text": [
      "accuracy : 69.23 %\n"
     ]
    }
   ],
   "source": [
    "# 將股價狀態轉為趨勢分類\n",
    "def label_convert(train):\n",
    "    data = []\n",
    "    for i in range(len(train) - 5):\n",
    "        if (i == 0):\n",
    "            data.append(0)\n",
    "            continue\n",
    "        if train[i + 5] > train[i] :\n",
    "            data.append(1)\n",
    "        else:\n",
    "            data.append(0)\n",
    "    return data\n",
    "\n",
    "ans1 = label_convert(predicted_stock_price)\n",
    "ans2 = label_convert(test[\"Close Price\"])\n",
    "\n",
    "print(\"accuracy :\", end=\" \")\n",
    "print(str(round(metrics.accuracy_score(ans1, ans2) * 100, 2)) + \" %\" )"
   ]
  },
  {
   "cell_type": "markdown",
   "metadata": {},
   "source": [
    "## Random Forest Classifier\n",
    "\n",
    "第三種模型測試(1)"
   ]
  },
  {
   "cell_type": "code",
   "execution_count": 20,
   "metadata": {},
   "outputs": [],
   "source": [
    "train = pd.read_csv(\"train.csv\")\n",
    "test = pd.read_csv(\"test.csv\")\n",
    "\n",
    "train[\"label\"] = add_label(train, \"Close Price\")\n",
    "test[\"label\"] = add_label(test, \"Close Price\")"
   ]
  },
  {
   "cell_type": "code",
   "execution_count": 21,
   "metadata": {},
   "outputs": [
    {
     "name": "stdout",
     "output_type": "stream",
     "text": [
      "accuracy : 53.17 %\n"
     ]
    },
    {
     "name": "stderr",
     "output_type": "stream",
     "text": [
      "C:\\Users\\1234\\Anaconda3\\lib\\site-packages\\sklearn\\ensemble\\weight_boosting.py:29: DeprecationWarning: numpy.core.umath_tests is an internal NumPy module and should not be imported. It will be removed in a future NumPy release.\n",
      "  from numpy.core.umath_tests import inner1d\n"
     ]
    }
   ],
   "source": [
    "from sklearn.ensemble import RandomForestClassifier\n",
    "from sklearn import cross_validation, ensemble, preprocessing, metrics\n",
    "\n",
    "nor_list = [\"Open Price\", \"Close Price\", \"High Price\", \"Low Price\", \"Volume\"]\n",
    "\n",
    "train_x, train_y = train[nor_list], train[\"label\"]\n",
    "test_x, test_y = test[nor_list], test[\"label\"]\n",
    "\n",
    "model = RandomForestClassifier(n_estimators = 10)\n",
    "model.fit(train_x, train_y)\n",
    "\n",
    "pred_y = model.predict(test_x)\n",
    "print(\"accuracy :\", end=\" \")\n",
    "print(str(round(metrics.accuracy_score(pred_y, test_y) * 100, 2)) + \" %\" )"
   ]
  },
  {
   "cell_type": "markdown",
   "metadata": {},
   "source": [
    "## SVM\n",
    "\n",
    "第三種模型測試(2)"
   ]
  },
  {
   "cell_type": "code",
   "execution_count": 22,
   "metadata": {},
   "outputs": [
    {
     "name": "stdout",
     "output_type": "stream",
     "text": [
      "accuracy : 52.38 %\n"
     ]
    }
   ],
   "source": [
    "from sklearn.svm import SVC\n",
    "\n",
    "svm = SVC()\n",
    "svm.fit(train_x, train_y)\n",
    "pred_y = svm.predict(test_x)\n",
    "\n",
    "print(\"accuracy :\", end=\" \")\n",
    "print(str(round(metrics.accuracy_score(pred_y, test_y) * 100, 2)) + \" %\" )"
   ]
  }
 ],
 "metadata": {
  "kernelspec": {
   "display_name": "Python 3",
   "language": "python",
   "name": "python3"
  },
  "language_info": {
   "codemirror_mode": {
    "name": "ipython",
    "version": 3
   },
   "file_extension": ".py",
   "mimetype": "text/x-python",
   "name": "python",
   "nbconvert_exporter": "python",
   "pygments_lexer": "ipython3",
   "version": "3.6.4"
  }
 },
 "nbformat": 4,
 "nbformat_minor": 2
}
