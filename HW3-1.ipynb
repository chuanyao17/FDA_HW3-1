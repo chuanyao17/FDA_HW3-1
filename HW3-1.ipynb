{
 "cells": [
  {
   "cell_type": "code",
   "execution_count": 1,
   "metadata": {},
   "outputs": [],
   "source": [
    "import pandas as pd\n",
    "import numpy as np"
   ]
  },
  {
   "cell_type": "code",
   "execution_count": 5,
   "metadata": {},
   "outputs": [],
   "source": [
    "train = pd.read_csv(\"train.csv\")\n",
    "test = pd.read_csv(\"test.csv\")"
   ]
  },
  {
   "cell_type": "markdown",
   "metadata": {},
   "source": [
    "## Logistic Regression"
   ]
  },
  {
   "cell_type": "code",
   "execution_count": 161,
   "metadata": {},
   "outputs": [
    {
     "data": {
      "text/html": [
       "<div>\n",
       "<style scoped>\n",
       "    .dataframe tbody tr th:only-of-type {\n",
       "        vertical-align: middle;\n",
       "    }\n",
       "\n",
       "    .dataframe tbody tr th {\n",
       "        vertical-align: top;\n",
       "    }\n",
       "\n",
       "    .dataframe thead th {\n",
       "        text-align: right;\n",
       "    }\n",
       "</style>\n",
       "<table border=\"1\" class=\"dataframe\">\n",
       "  <thead>\n",
       "    <tr style=\"text-align: right;\">\n",
       "      <th></th>\n",
       "      <th>Open Price</th>\n",
       "      <th>Close Price</th>\n",
       "      <th>High Price</th>\n",
       "      <th>Low Price</th>\n",
       "      <th>Volume</th>\n",
       "      <th>label</th>\n",
       "    </tr>\n",
       "  </thead>\n",
       "  <tbody>\n",
       "    <tr>\n",
       "      <th>0</th>\n",
       "      <td>0.111109</td>\n",
       "      <td>0.126771</td>\n",
       "      <td>0.119748</td>\n",
       "      <td>0.115178</td>\n",
       "      <td>4048270080</td>\n",
       "      <td>0</td>\n",
       "    </tr>\n",
       "    <tr>\n",
       "      <th>1</th>\n",
       "      <td>0.124112</td>\n",
       "      <td>0.124611</td>\n",
       "      <td>0.120698</td>\n",
       "      <td>0.125173</td>\n",
       "      <td>5413910016</td>\n",
       "      <td>0</td>\n",
       "    </tr>\n",
       "    <tr>\n",
       "      <th>2</th>\n",
       "      <td>0.125105</td>\n",
       "      <td>0.128211</td>\n",
       "      <td>0.124309</td>\n",
       "      <td>0.129011</td>\n",
       "      <td>5392620032</td>\n",
       "      <td>1</td>\n",
       "    </tr>\n",
       "    <tr>\n",
       "      <th>3</th>\n",
       "      <td>0.123257</td>\n",
       "      <td>0.114281</td>\n",
       "      <td>0.116107</td>\n",
       "      <td>0.116674</td>\n",
       "      <td>4704940032</td>\n",
       "      <td>0</td>\n",
       "    </tr>\n",
       "    <tr>\n",
       "      <th>4</th>\n",
       "      <td>0.112470</td>\n",
       "      <td>0.115811</td>\n",
       "      <td>0.107381</td>\n",
       "      <td>0.113920</td>\n",
       "      <td>4991549952</td>\n",
       "      <td>1</td>\n",
       "    </tr>\n",
       "  </tbody>\n",
       "</table>\n",
       "</div>"
      ],
      "text/plain": [
       "   Open Price  Close Price  High Price  Low Price      Volume  label\n",
       "0    0.111109     0.126771    0.119748   0.115178  4048270080      0\n",
       "1    0.124112     0.124611    0.120698   0.125173  5413910016      0\n",
       "2    0.125105     0.128211    0.124309   0.129011  5392620032      1\n",
       "3    0.123257     0.114281    0.116107   0.116674  4704940032      0\n",
       "4    0.112470     0.115811    0.107381   0.113920  4991549952      1"
      ]
     },
     "execution_count": 161,
     "metadata": {},
     "output_type": "execute_result"
    }
   ],
   "source": [
    "# preprocessing : 股價的漲 (1) or 跌 (0) label\n",
    "def add_label(df, column):\n",
    "    label = []\n",
    "    for i in range(len(df)):\n",
    "        if(i == 0):\n",
    "            label.append(0)\n",
    "            continue\n",
    "        if(df[column][i] >= df[column][i - 1]):\n",
    "            label.append(1)\n",
    "        else:\n",
    "            label.append(0)\n",
    "    return pd.Series(label)\n",
    "    \n",
    "train_length = len(train)\n",
    "train[\"label\"] = add_label(train, \"Close Price\")\n",
    "test[\"label\"] = add_label(test, \"Close Price\")\n",
    "train.head()"
   ]
  },
  {
   "cell_type": "code",
   "execution_count": 162,
   "metadata": {},
   "outputs": [
    {
     "name": "stdout",
     "output_type": "stream",
     "text": [
      "Train size: 2264, Test size: 252\n",
      "accuracy : 48.41 %\n"
     ]
    }
   ],
   "source": [
    "from sklearn.cross_validation import train_test_split\n",
    "from sklearn.linear_model import LogisticRegression\n",
    "from sklearn import metrics\n",
    "\n",
    "# 取出參考的 columns\n",
    "x_list = [\"Open Price\", \"Close Price\", \"High Price\", \"Low Price\"]\n",
    "train_x = train[x_list]\n",
    "train_y = train[\"label\"]\n",
    "\n",
    "test_x = test[x_list]\n",
    "test_y = test[\"label\"]\n",
    "\n",
    "print(\"Train size: %d, Test size: %d\" % (len(train), len(test)))\n",
    "\n",
    "# train model & predict\n",
    "model = LogisticRegression()\n",
    "model.fit(train_x, train_y)\n",
    "\n",
    "pred_y = model.predict(test_x)\n",
    "print(\"accuracy :\", end=\" \")\n",
    "print(str(round(metrics.accuracy_score(pred_y, test_y) * 100, 2)) + \" %\" )"
   ]
  },
  {
   "cell_type": "markdown",
   "metadata": {},
   "source": [
    "## Neural Network - 1\n",
    "\n",
    "<br/>\n",
    "reference :\n",
    "- [股票LSTM分析(2)-Classifiacion](https://mc.ai/%E8%82%A1%E7%A5%A8lstm%E5%88%86%E6%9E%902-classifiacion/)\n",
    "- [Keras](https://keras.io/zh/getting-started/sequential-model-guide/)"
   ]
  },
  {
   "cell_type": "code",
   "execution_count": 147,
   "metadata": {},
   "outputs": [],
   "source": [
    "train = pd.read_csv(\"train.csv\")\n",
    "test = pd.read_csv(\"test.csv\")\n",
    "\n",
    "train = train.drop([\"Date\"], axis=1)\n",
    "test = test.drop([\"Date\"], axis=1)\n",
    "\n",
    "train[\"label\"] = add_label(train, \"Close Price\")\n",
    "test[\"label\"] = add_label(test, \"Close Price\")"
   ]
  },
  {
   "cell_type": "code",
   "execution_count": 148,
   "metadata": {},
   "outputs": [
    {
     "data": {
      "text/html": [
       "<div>\n",
       "<style scoped>\n",
       "    .dataframe tbody tr th:only-of-type {\n",
       "        vertical-align: middle;\n",
       "    }\n",
       "\n",
       "    .dataframe tbody tr th {\n",
       "        vertical-align: top;\n",
       "    }\n",
       "\n",
       "    .dataframe thead th {\n",
       "        text-align: right;\n",
       "    }\n",
       "</style>\n",
       "<table border=\"1\" class=\"dataframe\">\n",
       "  <thead>\n",
       "    <tr style=\"text-align: right;\">\n",
       "      <th></th>\n",
       "      <th>Open Price</th>\n",
       "      <th>Close Price</th>\n",
       "      <th>High Price</th>\n",
       "      <th>Low Price</th>\n",
       "      <th>Volume</th>\n",
       "      <th>label</th>\n",
       "    </tr>\n",
       "  </thead>\n",
       "  <tbody>\n",
       "    <tr>\n",
       "      <th>0</th>\n",
       "      <td>0.111109</td>\n",
       "      <td>0.126771</td>\n",
       "      <td>0.119748</td>\n",
       "      <td>0.115178</td>\n",
       "      <td>4048270080</td>\n",
       "      <td>0</td>\n",
       "    </tr>\n",
       "    <tr>\n",
       "      <th>1</th>\n",
       "      <td>0.124112</td>\n",
       "      <td>0.124611</td>\n",
       "      <td>0.120698</td>\n",
       "      <td>0.125173</td>\n",
       "      <td>5413910016</td>\n",
       "      <td>0</td>\n",
       "    </tr>\n",
       "    <tr>\n",
       "      <th>2</th>\n",
       "      <td>0.125105</td>\n",
       "      <td>0.128211</td>\n",
       "      <td>0.124309</td>\n",
       "      <td>0.129011</td>\n",
       "      <td>5392620032</td>\n",
       "      <td>1</td>\n",
       "    </tr>\n",
       "    <tr>\n",
       "      <th>3</th>\n",
       "      <td>0.123257</td>\n",
       "      <td>0.114281</td>\n",
       "      <td>0.116107</td>\n",
       "      <td>0.116674</td>\n",
       "      <td>4704940032</td>\n",
       "      <td>0</td>\n",
       "    </tr>\n",
       "    <tr>\n",
       "      <th>4</th>\n",
       "      <td>0.112470</td>\n",
       "      <td>0.115811</td>\n",
       "      <td>0.107381</td>\n",
       "      <td>0.113920</td>\n",
       "      <td>4991549952</td>\n",
       "      <td>1</td>\n",
       "    </tr>\n",
       "  </tbody>\n",
       "</table>\n",
       "</div>"
      ],
      "text/plain": [
       "   Open Price  Close Price  High Price  Low Price      Volume  label\n",
       "0    0.111109     0.126771    0.119748   0.115178  4048270080      0\n",
       "1    0.124112     0.124611    0.120698   0.125173  5413910016      0\n",
       "2    0.125105     0.128211    0.124309   0.129011  5392620032      1\n",
       "3    0.123257     0.114281    0.116107   0.116674  4704940032      0\n",
       "4    0.112470     0.115811    0.107381   0.113920  4991549952      1"
      ]
     },
     "execution_count": 148,
     "metadata": {},
     "output_type": "execute_result"
    }
   ],
   "source": [
    "from sklearn import preprocessing\n",
    "\n",
    "x_list = [\"Open Price\", \"Close Price\", \"High Price\", \"Low Price\"]\n",
    "\n",
    "# 正規化\n",
    "scaler = MinMaxScaler()\n",
    "train[x_list] = scaler.fit_transform(train[x_list])\n",
    "train.head()"
   ]
  },
  {
   "cell_type": "code",
   "execution_count": 149,
   "metadata": {},
   "outputs": [
    {
     "name": "stdout",
     "output_type": "stream",
     "text": [
      "finish\n"
     ]
    }
   ],
   "source": [
    "# 以 5 天為單位當作一個輸入資料\n",
    "def extract_days(df, ref_day = 5, predict_day = 1):\n",
    "    X_train, Y_train = [], []\n",
    "    tmp = df[[\"Open Price\", \"Close Price\", \"High Price\", \"Low Price\"]]\n",
    "    for i in range(df.shape[0] - predict_day - ref_day):\n",
    "        X_train.append(np.array(tmp.iloc[i: i + ref_day,: ]))\n",
    "        Y_train.append(np.array(df[\"label\"][i + ref_day: i + ref_day + predict_day,]))\n",
    "    return np.array(X_train), np.array(Y_train)\n",
    "\n",
    "train_x, train_y = extract_days(train, 5, 1)\n",
    "test_x, test_y = extract_days(test, 5, 1)\n",
    "\n",
    "print(\"finish\")"
   ]
  },
  {
   "cell_type": "code",
   "execution_count": 150,
   "metadata": {},
   "outputs": [
    {
     "name": "stdout",
     "output_type": "stream",
     "text": [
      "train_x set shape:  (2258, 5, 4)\n",
      "train label 0 v.s. 1 : 1021 1237\n",
      "- - -\n",
      "test_x set shape:  (246, 5, 4)\n",
      "test  label 0 v.s. 1 : 119 127\n"
     ]
    }
   ],
   "source": [
    "print(\"train_x set shape: \", str(train_x.shape))\n",
    "print(\"train label 0 v.s. 1 :\", end=\" \")\n",
    "print(list(train_y).count(0), list(train_y).count(1))\n",
    "\n",
    "print(\"- - -\")\n",
    "\n",
    "print(\"test_x set shape: \", str(test_x.shape))\n",
    "print(\"test  label 0 v.s. 1 :\", end=\" \")\n",
    "print(list(test_y).count(0), list(test_y).count(1))"
   ]
  },
  {
   "cell_type": "code",
   "execution_count": 151,
   "metadata": {},
   "outputs": [
    {
     "name": "stdout",
     "output_type": "stream",
     "text": [
      "Epoch 1/10\n",
      "2258/2258 [==============================] - 2s 900us/step - loss: 0.6903 - accuracy: 0.5394\n",
      "Epoch 2/10\n",
      "2258/2258 [==============================] - 1s 224us/step - loss: 0.6899 - accuracy: 0.5478\n",
      "Epoch 3/10\n",
      "2258/2258 [==============================] - 1s 224us/step - loss: 0.6896 - accuracy: 0.5478\n",
      "Epoch 4/10\n",
      "2258/2258 [==============================] - 1s 255us/step - loss: 0.6894 - accuracy: 0.5478\n",
      "Epoch 5/10\n",
      "2258/2258 [==============================] - 0s 220us/step - loss: 0.6887 - accuracy: 0.5478\n",
      "Epoch 6/10\n",
      "2258/2258 [==============================] - 1s 235us/step - loss: 0.6890 - accuracy: 0.5469\n",
      "Epoch 7/10\n",
      "2258/2258 [==============================] - 1s 235us/step - loss: 0.6888 - accuracy: 0.5474\n",
      "Epoch 8/10\n",
      "2258/2258 [==============================] - 1s 241us/step - loss: 0.6900 - accuracy: 0.5456\n",
      "Epoch 9/10\n",
      "2258/2258 [==============================] - 1s 232us/step - loss: 0.6887 - accuracy: 0.5478\n",
      "Epoch 10/10\n",
      "2258/2258 [==============================] - 1s 235us/step - loss: 0.6895 - accuracy: 0.5474\n",
      "finish\n"
     ]
    }
   ],
   "source": [
    "from keras.models import Sequential\n",
    "from keras.layers import Dense\n",
    "from keras.layers import LSTM\n",
    "from keras.layers import Dropout\n",
    "\n",
    "regressor = Sequential()\n",
    "\n",
    "regressor.add(LSTM(units = 30, return_sequences = True, input_shape = (train_x.shape[1], train_x.shape[2])))\n",
    "regressor.add(Dropout(0.5))\n",
    "\n",
    "regressor.add(LSTM(units = 30, return_sequences = True))\n",
    "regressor.add(Dropout(0.5))\n",
    "\n",
    "regressor.add(LSTM(units = 30))\n",
    "regressor.add(Dropout(0.5))\n",
    "\n",
    "regressor.add(Dense(units = 1, activation='sigmoid'))\n",
    "# regressor.add(Dense(units = 1, activation='relu'))\n",
    "regressor.compile(loss='binary_crossentropy', optimizer='rmsprop', metrics=['accuracy'])\n",
    "\n",
    "regressor.fit(train_x, train_y, epochs = 10, batch_size = 64)\n",
    "\n",
    "print(\"finish\")"
   ]
  },
  {
   "cell_type": "code",
   "execution_count": 152,
   "metadata": {},
   "outputs": [
    {
     "name": "stdout",
     "output_type": "stream",
     "text": [
      "finish\n"
     ]
    }
   ],
   "source": [
    "predict_y = regressor.predict(test_x)\n",
    "predict_y = pd.DataFrame(predict_y).values.astype(float)\n",
    "print(\"finish\")"
   ]
  },
  {
   "cell_type": "code",
   "execution_count": 153,
   "metadata": {},
   "outputs": [
    {
     "data": {
      "text/plain": [
       "array([1, 1, 1, 1, 1, 1, 1, 1, 1, 1, 1, 1, 1, 1, 1, 1, 1, 1, 1, 1, 1, 1,\n",
       "       1, 1, 1, 1, 1, 1, 1, 1, 1, 1, 1, 1, 1, 1, 1, 1, 1, 1, 1, 1, 1, 1,\n",
       "       1, 1, 1, 1, 1, 1, 1, 1, 1, 1, 1, 1, 1, 1, 1, 1, 1, 1, 1, 1, 1, 1,\n",
       "       1, 1, 1, 1, 1, 1, 1, 1, 1, 1, 1, 1, 1, 1, 1, 1, 1, 1, 1, 1, 1, 1,\n",
       "       1, 1, 1, 1, 1, 1, 1, 1, 1, 1, 1, 1, 1, 1, 1, 1, 1, 1, 1, 1, 1, 1,\n",
       "       1, 1, 1, 1, 1, 1, 1, 1, 1, 1, 1, 1, 1, 1, 1, 1, 1, 1, 1, 1, 1, 1,\n",
       "       1, 1, 1, 1, 1, 1, 1, 1, 1, 1, 1, 1, 1, 1, 1, 1, 1, 1, 1, 1, 1, 1,\n",
       "       1, 1, 1, 1, 1, 1, 1, 1, 1, 1, 1, 1, 1, 1, 1, 1, 1, 1, 1, 1, 1, 1,\n",
       "       1, 1, 1, 1, 1, 1, 1, 1, 1, 1, 1, 1, 1, 1, 1, 1, 1, 1, 1, 1, 1, 1,\n",
       "       1, 1, 1, 1, 1, 1, 1, 1, 1, 1, 1, 1, 1, 1, 1, 1, 1, 1, 1, 1, 1, 1,\n",
       "       1, 1, 1, 1, 1, 1, 1, 1, 1, 1, 1, 1, 1, 1, 1, 1, 1, 1, 1, 1, 1, 1,\n",
       "       1, 1, 1, 1])"
      ]
     },
     "execution_count": 153,
     "metadata": {},
     "output_type": "execute_result"
    }
   ],
   "source": [
    "def convert_to_label(predict):\n",
    "    data = []\n",
    "    for i in range(len(predict)):\n",
    "        if(predict_y[i] > 0.5):\n",
    "            data.append(1)\n",
    "        else:\n",
    "            data.append(0)\n",
    "    return data\n",
    "pred_yy = np.array(updown(predict_y))\n",
    "pred_yy"
   ]
  },
  {
   "cell_type": "code",
   "execution_count": 154,
   "metadata": {},
   "outputs": [
    {
     "name": "stdout",
     "output_type": "stream",
     "text": [
      "accuracy : 51.63 %\n"
     ]
    }
   ],
   "source": [
    "print(\"accuracy :\", end=\" \")\n",
    "print(str(round(metrics.accuracy_score(pred_yy, test_y) * 100, 2)) + \" %\" )"
   ]
  },
  {
   "cell_type": "markdown",
   "metadata": {},
   "source": [
    "### Nuural Network 2\n",
    "<br/>\n",
    "reference : [實作透過lstm預測股票](https://wenwender.wordpress.com/2019/10/18/%E5%AF%A6%E4%BD%9C%E9%80%8F%E9%81%8Elstm%E9%A0%90%E6%B8%AC%E8%82%A1%E7%A5%A8/)"
   ]
  },
  {
   "cell_type": "code",
   "execution_count": 128,
   "metadata": {},
   "outputs": [],
   "source": [
    "train = pd.read_csv(\"train.csv\")\n",
    "test = pd.read_csv(\"test.csv\")"
   ]
  },
  {
   "cell_type": "code",
   "execution_count": 129,
   "metadata": {},
   "outputs": [
    {
     "data": {
      "text/plain": [
       "252"
      ]
     },
     "execution_count": 129,
     "metadata": {},
     "output_type": "execute_result"
    }
   ],
   "source": [
    "len(test)"
   ]
  },
  {
   "cell_type": "code",
   "execution_count": 117,
   "metadata": {},
   "outputs": [
    {
     "name": "stdout",
     "output_type": "stream",
     "text": [
      "finish\n"
     ]
    }
   ],
   "source": [
    "from sklearn.preprocessing import MinMaxScaler \n",
    "\n",
    "train_set = train[['Close Price']]\n",
    "test_set = test[['Close Price']]\n",
    "\n",
    "# preprocessing: 資料正規化\n",
    "sc = MinMaxScaler(feature_range = (0, 1))\n",
    "train_set= train_set.values.reshape(-1, 1)\n",
    "training_set_scaled = sc.fit_transform(train_set)\n",
    "\n",
    "train_x, train_y = [], []\n",
    "\n",
    "for i in range(5, len(train_set)):\n",
    "    train_x.append(training_set_scaled[i-5: i, 0]) \n",
    "    train_y.append(training_set_scaled[i:i+1, 0]) \n",
    "    \n",
    "train_x, train_y = np.array(train_x), np.array(train_y) \n",
    "train_x = np.reshape(train_x, (train_x.shape[0], train_x.shape[1], 1))\n",
    "\n",
    "print(\"finish\")"
   ]
  },
  {
   "cell_type": "code",
   "execution_count": 118,
   "metadata": {},
   "outputs": [
    {
     "name": "stdout",
     "output_type": "stream",
     "text": [
      "(2259, 5, 1)\n"
     ]
    }
   ],
   "source": [
    "print(train_x.shape)"
   ]
  },
  {
   "cell_type": "code",
   "execution_count": 119,
   "metadata": {},
   "outputs": [
    {
     "name": "stdout",
     "output_type": "stream",
     "text": [
      "Model: \"sequential_1\"\n",
      "_________________________________________________________________\n",
      "Layer (type)                 Output Shape              Param #   \n",
      "=================================================================\n",
      "lstm_1 (LSTM)                (None, 50)                10400     \n",
      "_________________________________________________________________\n",
      "dense_1 (Dense)              (None, 1)                 51        \n",
      "=================================================================\n",
      "Total params: 10,451\n",
      "Trainable params: 10,451\n",
      "Non-trainable params: 0\n",
      "_________________________________________________________________\n"
     ]
    }
   ],
   "source": [
    "import keras\n",
    "from keras.models import Sequential\n",
    "from keras.layers import Dense\n",
    "from keras.layers import LSTM\n",
    "from keras.layers import Dropout,BatchNormalization\n",
    "\n",
    "keras.backend.clear_session()\n",
    "regressor = Sequential()\n",
    "regressor.add(LSTM(units = 50, input_shape = (train_x.shape[1], 1)))\n",
    "regressor.add(Dense(units = 1))\n",
    "regressor.compile(optimizer = 'adam', loss = 'mean_squared_error')\n",
    "regressor.summary()"
   ]
  },
  {
   "cell_type": "code",
   "execution_count": 120,
   "metadata": {
    "scrolled": true
   },
   "outputs": [
    {
     "name": "stdout",
     "output_type": "stream",
     "text": [
      "Epoch 1/40\n",
      "2259/2259 [==============================] - 1s 479us/step - loss: 0.0256\n",
      "Epoch 2/40\n",
      "2259/2259 [==============================] - 1s 276us/step - loss: 2.6043e-04\n",
      "Epoch 3/40\n",
      "2259/2259 [==============================] - 1s 322us/step - loss: 2.1450e-04\n",
      "Epoch 4/40\n",
      "2259/2259 [==============================] - 1s 295us/step - loss: 1.8156e-04\n",
      "Epoch 5/40\n",
      "2259/2259 [==============================] - 1s 278us/step - loss: 1.5427e-04\n",
      "Epoch 6/40\n",
      "2259/2259 [==============================] - 1s 290us/step - loss: 1.4263e-04\n",
      "Epoch 7/40\n",
      "2259/2259 [==============================] - 1s 293us/step - loss: 1.3482e-04\n",
      "Epoch 8/40\n",
      "2259/2259 [==============================] - 1s 284us/step - loss: 1.3407e-04\n",
      "Epoch 9/40\n",
      "2259/2259 [==============================] - 1s 296us/step - loss: 1.3015e-04\n",
      "Epoch 10/40\n",
      "2259/2259 [==============================] - 1s 306us/step - loss: 1.2902e-04\n",
      "Epoch 11/40\n",
      "2259/2259 [==============================] - 1s 282us/step - loss: 1.2993e-04\n",
      "Epoch 12/40\n",
      "2259/2259 [==============================] - 1s 295us/step - loss: 1.3596e-04\n",
      "Epoch 13/40\n",
      "2259/2259 [==============================] - 1s 325us/step - loss: 1.3246e-04\n",
      "Epoch 14/40\n",
      "2259/2259 [==============================] - 1s 315us/step - loss: 1.3219e-04\n",
      "Epoch 15/40\n",
      "2259/2259 [==============================] - 1s 297us/step - loss: 1.2990e-04\n",
      "Epoch 16/40\n",
      "2259/2259 [==============================] - 1s 306us/step - loss: 1.3033e-04\n",
      "Epoch 17/40\n",
      "2259/2259 [==============================] - 1s 285us/step - loss: 1.3033e-04\n",
      "Epoch 18/40\n",
      "2259/2259 [==============================] - 1s 363us/step - loss: 1.2981e-04\n",
      "Epoch 19/40\n",
      "2259/2259 [==============================] - 1s 276us/step - loss: 1.3310e-04\n",
      "Epoch 20/40\n",
      "2259/2259 [==============================] - 1s 271us/step - loss: 1.2902e-04\n",
      "Epoch 21/40\n",
      "2259/2259 [==============================] - 1s 291us/step - loss: 1.4389e-04\n",
      "Epoch 22/40\n",
      "2259/2259 [==============================] - 1s 274us/step - loss: 1.3902e-04\n",
      "Epoch 23/40\n",
      "2259/2259 [==============================] - 1s 268us/step - loss: 1.2652e-04\n",
      "Epoch 24/40\n",
      "2259/2259 [==============================] - 1s 307us/step - loss: 1.3225e-04\n",
      "Epoch 25/40\n",
      "2259/2259 [==============================] - 1s 302us/step - loss: 1.3071e-04\n",
      "Epoch 26/40\n",
      "2259/2259 [==============================] - 1s 277us/step - loss: 1.2831e-04\n",
      "Epoch 27/40\n",
      "2259/2259 [==============================] - 1s 299us/step - loss: 1.2373e-04\n",
      "Epoch 28/40\n",
      "2259/2259 [==============================] - 1s 276us/step - loss: 1.2082e-04\n",
      "Epoch 29/40\n",
      "2259/2259 [==============================] - 1s 265us/step - loss: 1.1945e-04\n",
      "Epoch 30/40\n",
      "2259/2259 [==============================] - 1s 274us/step - loss: 1.2458e-04\n",
      "Epoch 31/40\n",
      "2259/2259 [==============================] - 1s 277us/step - loss: 1.1760e-04\n",
      "Epoch 32/40\n",
      "2259/2259 [==============================] - 1s 267us/step - loss: 1.1764e-04\n",
      "Epoch 33/40\n",
      "2259/2259 [==============================] - 1s 276us/step - loss: 1.1387e-04\n",
      "Epoch 34/40\n",
      "2259/2259 [==============================] - 1s 312us/step - loss: 1.2080e-04 0s - loss: 1.\n",
      "Epoch 35/40\n",
      "2259/2259 [==============================] - 1s 273us/step - loss: 1.1818e-04\n",
      "Epoch 36/40\n",
      "2259/2259 [==============================] - 1s 314us/step - loss: 1.1960e-04\n",
      "Epoch 37/40\n",
      "2259/2259 [==============================] - 1s 354us/step - loss: 1.2822e-04\n",
      "Epoch 38/40\n",
      "2259/2259 [==============================] - 1s 292us/step - loss: 1.1007e-04\n",
      "Epoch 39/40\n",
      "2259/2259 [==============================] - 1s 356us/step - loss: 1.1041e-04\n",
      "Epoch 40/40\n",
      "2259/2259 [==============================] - 1s 318us/step - loss: 1.0690e-04\n",
      "finish\n"
     ]
    }
   ],
   "source": [
    "history = regressor.fit(train_x, train_y, epochs = 40, batch_size = 16)\n",
    "print(\"finish\")"
   ]
  },
  {
   "cell_type": "code",
   "execution_count": 121,
   "metadata": {},
   "outputs": [
    {
     "data": {
      "text/plain": [
       "[<matplotlib.lines.Line2D at 0x2e4266ce470>]"
      ]
     },
     "execution_count": 121,
     "metadata": {},
     "output_type": "execute_result"
    },
    {
     "data": {
      "image/png": "[encoded data removed]",
      "text/plain": [
       "<Figure size 432x288 with 1 Axes>"
      ]
     },
     "metadata": {},
     "output_type": "display_data"
    }
   ],
   "source": [
    "import matplotlib.pyplot as plt\n",
    "%matplotlib inline\n",
    "\n",
    "# loss graph\n",
    "plt.title('train_loss')\n",
    "plt.ylabel('loss')\n",
    "plt.xlabel('Epoch')\n",
    "plt.plot( history.history[\"loss\"])"
   ]
  },
  {
   "cell_type": "code",
   "execution_count": 131,
   "metadata": {},
   "outputs": [
    {
     "data": {
      "image/png": "[encoded data removed]",
      "text/plain": [
       "<Figure size 432x288 with 1 Axes>"
      ]
     },
     "metadata": {},
     "output_type": "display_data"
    }
   ],
   "source": [
    "dataset_total = pd.concat((train['Close Price'], test['Close Price']), axis = 0)\n",
    "inputs = dataset_total[len(dataset_total) - len(test) - 5:].values\n",
    "inputs = inputs.reshape(-1,1)\n",
    "inputs = sc.transform(inputs)\n",
    "\n",
    "test_x = []\n",
    "for i in range(5, len(inputs)):\n",
    "    test_x.append(inputs[i-5: i, 0])\n",
    "test_x = np.array(test_x)\n",
    "test_x = np.reshape(test_x, (test_x.shape[0], test_x.shape[1], 1))\n",
    "predicted_stock_price = regressor.predict(test_x)\n",
    "#使用sc的 inverse_transform將股價轉為歸一化前\n",
    "predicted_stock_price = sc.inverse_transform(predicted_stock_price)\n",
    "\n",
    "plt.plot(test['Close Price'].values, color = 'black', label = 'Real')\n",
    "plt.plot(predicted_stock_price, color = 'green', label = 'Predicted')\n",
    "plt.title('Stock Price Prediction')\n",
    "plt.xlabel('Time')\n",
    "plt.ylabel('Stock Price')\n",
    "plt.legend()\n",
    "plt.show()"
   ]
  },
  {
   "cell_type": "code",
   "execution_count": 132,
   "metadata": {},
   "outputs": [
    {
     "data": {
      "text/plain": [
       "(252, 252)"
      ]
     },
     "execution_count": 132,
     "metadata": {},
     "output_type": "execute_result"
    }
   ],
   "source": [
    "len(predicted_stock_price), len(test[\"Close Price\"])"
   ]
  },
  {
   "cell_type": "code",
   "execution_count": 136,
   "metadata": {},
   "outputs": [
    {
     "name": "stdout",
     "output_type": "stream",
     "text": [
      "accuracy : 69.23 %\n"
     ]
    }
   ],
   "source": [
    "#建立label\n",
    "def label_convert(train):\n",
    "    data = []\n",
    "    for i in range(len(train) - 5):\n",
    "        if (i == 0):\n",
    "            data.append(0)\n",
    "            continue\n",
    "        if train[i + 5] > train[i] :\n",
    "            data.append(1)\n",
    "        else:\n",
    "            data.append(0)\n",
    "    return data\n",
    "\n",
    "ans1 = label_convert(predicted_stock_price)\n",
    "ans2 = label_convert(test[\"Close Price\"])\n",
    "\n",
    "print(\"accuracy :\", end=\" \")\n",
    "print(str(round(metrics.accuracy_score(ans1, ans2) * 100, 2)) + \" %\" )"
   ]
  },
  {
   "cell_type": "markdown",
   "metadata": {},
   "source": [
    "## Random Forest Classifier"
   ]
  },
  {
   "cell_type": "code",
   "execution_count": 139,
   "metadata": {},
   "outputs": [],
   "source": [
    "train = pd.read_csv(\"train.csv\")\n",
    "test = pd.read_csv(\"test.csv\")\n",
    "\n",
    "train[\"label\"] = add_label(train, \"Close Price\")\n",
    "test[\"label\"] = add_label(test, \"Close Price\")"
   ]
  },
  {
   "cell_type": "code",
   "execution_count": 142,
   "metadata": {},
   "outputs": [
    {
     "name": "stdout",
     "output_type": "stream",
     "text": [
      "accuracy : 47.22 %\n"
     ]
    }
   ],
   "source": [
    "from sklearn.ensemble import RandomForestClassifier\n",
    "from sklearn import cross_validation, ensemble, preprocessing, metrics\n",
    "\n",
    "nor_list = [\"Open Price\", \"Close Price\", \"High Price\", \"Low Price\", \"Volume\"]\n",
    "\n",
    "train_x, train_y = train[nor_list], train[\"label\"]\n",
    "test_x, test_y = test[nor_list], test[\"label\"]\n",
    "\n",
    "model = RandomForestClassifier(n_estimators = 10)\n",
    "model.fit(train_x, train_y)\n",
    "\n",
    "pred_y = model.predict(test_x)\n",
    "print(\"accuracy :\", end=\" \")\n",
    "print(str(round(metrics.accuracy_score(pred_y, test_y) * 100, 2)) + \" %\" )"
   ]
  },
  {
   "cell_type": "code",
   "execution_count": 143,
   "metadata": {},
   "outputs": [
    {
     "name": "stdout",
     "output_type": "stream",
     "text": [
      "accuracy : 52.38 %\n"
     ]
    }
   ],
   "source": [
    "from sklearn.svm import SVC\n",
    "\n",
    "svm = SVC()\n",
    "svm.fit(train_x, train_y)\n",
    "pred_y = svm.predict(test_x)\n",
    "\n",
    "print(\"accuracy :\", end=\" \")\n",
    "print(str(round(metrics.accuracy_score(pred_y, test_y) * 100, 2)) + \" %\" )"
   ]
  }
 ],
 "metadata": {
  "kernelspec": {
   "display_name": "Python 3",
   "language": "python",
   "name": "python3"
  },
  "language_info": {
   "codemirror_mode": {
    "name": "ipython",
    "version": 3
   },
   "file_extension": ".py",
   "mimetype": "text/x-python",
   "name": "python",
   "nbconvert_exporter": "python",
   "pygments_lexer": "ipython3",
   "version": "3.6.4"
  }
 },
 "nbformat": 4,
 "nbformat_minor": 2
}
